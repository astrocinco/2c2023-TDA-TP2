{
 "cells": [
  {
   "cell_type": "code",
   "execution_count": 1,
   "metadata": {},
   "outputs": [],
   "source": [
    "import graph\n",
    "import solution\n",
    "import sets\n",
    "import analysis\n",
    "\n",
    "import pandas as pd"
   ]
  },
  {
   "cell_type": "code",
   "execution_count": 2,
   "metadata": {},
   "outputs": [],
   "source": [
    "files = ['6.txt']"
   ]
  },
  {
   "cell_type": "code",
   "execution_count": 3,
   "metadata": {},
   "outputs": [
    {
     "name": "stdout",
     "output_type": "stream",
     "text": [
      "Linea: 6\n",
      "\n",
      "77 410\n",
      "6.txt: \u001b[32m✔\u001b[37m - Secuence diff: \u001b[32m✔\u001b[37m\n"
     ]
    }
   ],
   "source": [
    "best_results = analysis.results_data_sets_propios(files, solution.get_best_training, solution.get_best_secuence_of_trainings)\n",
    "analysis.results_analysis(best_results)"
   ]
  },
  {
   "cell_type": "code",
   "execution_count": 4,
   "metadata": {},
   "outputs": [
    {
     "name": "stdout",
     "output_type": "stream",
     "text": [
      "Linea: 6\n",
      "\n",
      "77 380\n",
      "6.txt: \u001b[31m✘\u001b[37m - Secuence diff: \u001b[32m✔\u001b[37m\n"
     ]
    }
   ],
   "source": [
    "alternative_results = analysis.results_data_sets_propios(files, solution.get_alternative_training, solution.get_best_secuence_of_trainings)\n",
    "analysis.results_analysis(alternative_results)"
   ]
  },
  {
   "cell_type": "code",
   "execution_count": 5,
   "metadata": {},
   "outputs": [
    {
     "ename": "FileNotFoundError",
     "evalue": "[Errno 2] No such file or directory: '../data/catedra/6.txt'",
     "output_type": "error",
     "traceback": [
      "\u001b[1;31m---------------------------------------------------------------------------\u001b[0m",
      "\u001b[1;31mFileNotFoundError\u001b[0m                         Traceback (most recent call last)",
      "\u001b[1;32mc:\\Users\\Santiago\\Documents\\GitHub\\2c2023-TDA-TP2\\code\\graphic_own_analysis.ipynb Cell 5\u001b[0m line \u001b[0;36m1\n\u001b[1;32m----> <a href='vscode-notebook-cell:/c%3A/Users/Santiago/Documents/GitHub/2c2023-TDA-TP2/code/graphic_own_analysis.ipynb#W4sZmlsZQ%3D%3D?line=0'>1</a>\u001b[0m graph\u001b[39m.\u001b[39;49mmake_graph_for_different_method_durations(files, analysis\u001b[39m.\u001b[39;49mresults_data_sets_propios)\n",
      "File \u001b[1;32mc:\\Users\\Santiago\\Documents\\GitHub\\2c2023-TDA-TP2\\code\\graph.py:22\u001b[0m, in \u001b[0;36mmake_graph_for_different_method_durations\u001b[1;34m(files, method, results_data_sets_function)\u001b[0m\n\u001b[0;32m     21\u001b[0m \u001b[39mdef\u001b[39;00m \u001b[39mmake_graph_for_different_method_durations\u001b[39m(files, method\u001b[39m=\u001b[39m\u001b[39m'\u001b[39m\u001b[39mnuestra solucion\u001b[39m\u001b[39m'\u001b[39m, results_data_sets_function \u001b[39m=\u001b[39m analysis\u001b[39m.\u001b[39mresults_data_sets_catedra):\n\u001b[1;32m---> 22\u001b[0m     best_results \u001b[39m=\u001b[39m results_data_sets_function(files, solution\u001b[39m.\u001b[39;49mget_best_training, solution\u001b[39m.\u001b[39;49mget_best_secuence_of_trainings)\n\u001b[0;32m     23\u001b[0m     alternative_results \u001b[39m=\u001b[39m results_data_sets_function(files, solution\u001b[39m.\u001b[39mget_alternative_training, solution\u001b[39m.\u001b[39mget_best_secuence_of_trainings)\n\u001b[0;32m     25\u001b[0m     results \u001b[39m=\u001b[39m ({\n\u001b[0;32m     26\u001b[0m      \u001b[39m'\u001b[39m\u001b[39mFiles\u001b[39m\u001b[39m'\u001b[39m: files,\n\u001b[0;32m     27\u001b[0m      \u001b[39m'\u001b[39m\u001b[39mExpected\u001b[39m\u001b[39m'\u001b[39m: [result[\u001b[39m0\u001b[39m] \u001b[39mfor\u001b[39;00m result \u001b[39min\u001b[39;00m best_results[\u001b[39m\"\u001b[39m\u001b[39mexpected\u001b[39m\u001b[39m\"\u001b[39m]],\n\u001b[0;32m     28\u001b[0m      \u001b[39m'\u001b[39m\u001b[39mOur algorithm\u001b[39m\u001b[39m'\u001b[39m: [result[\u001b[39m0\u001b[39m] \u001b[39mfor\u001b[39;00m result \u001b[39min\u001b[39;00m best_results[\u001b[39m\"\u001b[39m\u001b[39mobtained\u001b[39m\u001b[39m\"\u001b[39m]],\n\u001b[0;32m     29\u001b[0m      \u001b[39m'\u001b[39m\u001b[39mAlternative\u001b[39m\u001b[39m'\u001b[39m: [result[\u001b[39m0\u001b[39m] \u001b[39mfor\u001b[39;00m result \u001b[39min\u001b[39;00m alternative_results[\u001b[39m\"\u001b[39m\u001b[39mobtained\u001b[39m\u001b[39m\"\u001b[39m]],\n\u001b[0;32m     30\u001b[0m     })\n",
      "File \u001b[1;32mc:\\Users\\Santiago\\Documents\\GitHub\\2c2023-TDA-TP2\\code\\analysis.py:43\u001b[0m, in \u001b[0;36mresults_data_sets_catedra\u001b[1;34m(files, method, secuence_method)\u001b[0m\n\u001b[0;32m     40\u001b[0m solution_obtained \u001b[39m=\u001b[39m []\n\u001b[0;32m     42\u001b[0m \u001b[39mfor\u001b[39;00m file \u001b[39min\u001b[39;00m files:\n\u001b[1;32m---> 43\u001b[0m     (e, s) \u001b[39m=\u001b[39m sets\u001b[39m.\u001b[39;49mget_data_set_from_file(\u001b[39m'\u001b[39;49m\u001b[39m../data/catedra/\u001b[39;49m\u001b[39m'\u001b[39;49m \u001b[39m+\u001b[39;49m file)\n\u001b[0;32m     44\u001b[0m     (sol, sec) \u001b[39m=\u001b[39m sets\u001b[39m.\u001b[39mget_solution_from_file(\u001b[39m'\u001b[39m\u001b[39m../data/catedra/Resultados Esperados.txt\u001b[39m\u001b[39m'\u001b[39m, file)\n\u001b[0;32m     46\u001b[0m     local_sol \u001b[39m=\u001b[39m method(e, s)\n",
      "File \u001b[1;32mc:\\Users\\Santiago\\Documents\\GitHub\\2c2023-TDA-TP2\\code\\sets.py:9\u001b[0m, in \u001b[0;36mget_data_set_from_file\u001b[1;34m(file)\u001b[0m\n\u001b[0;32m      7\u001b[0m effort_list \u001b[39m=\u001b[39m []\n\u001b[0;32m      8\u001b[0m energy_list \u001b[39m=\u001b[39m []\n\u001b[1;32m----> 9\u001b[0m \u001b[39mwith\u001b[39;00m \u001b[39mopen\u001b[39m(file,\u001b[39m'\u001b[39m\u001b[39mr\u001b[39m\u001b[39m'\u001b[39m) \u001b[39mas\u001b[39;00m o_file:\n\u001b[0;32m     10\u001b[0m     i\u001b[39m=\u001b[39m\u001b[39m1\u001b[39m\n\u001b[0;32m     11\u001b[0m     line \u001b[39m=\u001b[39m o_file\u001b[39m.\u001b[39mreadline()\n",
      "\u001b[1;31mFileNotFoundError\u001b[0m: [Errno 2] No such file or directory: '../data/catedra/6.txt'"
     ]
    }
   ],
   "source": [
    "graph.make_graph_for_different_method_durations(files, results_data_sets_function = analysis.results_data_sets_propios)"
   ]
  },
  {
   "cell_type": "code",
   "execution_count": null,
   "metadata": {},
   "outputs": [],
   "source": [
    "df_time = analysis.get_execution_time(solution.get_best_training, max=10, rep=10, size=10)\n",
    "graph.make_execution_time_graph(df_time)"
   ]
  }
 ],
 "metadata": {
  "kernelspec": {
   "display_name": "Python 3",
   "language": "python",
   "name": "python3"
  },
  "language_info": {
   "codemirror_mode": {
    "name": "ipython",
    "version": 3
   },
   "file_extension": ".py",
   "mimetype": "text/x-python",
   "name": "python",
   "nbconvert_exporter": "python",
   "pygments_lexer": "ipython3",
   "version": "3.11.0"
  }
 },
 "nbformat": 4,
 "nbformat_minor": 2
}
